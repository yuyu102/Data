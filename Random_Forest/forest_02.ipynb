{
 "cells": [
  {
   "cell_type": "markdown",
   "metadata": {},
   "source": [
    "## 업 샘플링 랜덤 포레스트"
   ]
  },
  {
   "cell_type": "code",
   "execution_count": 1,
   "metadata": {},
   "outputs": [],
   "source": [
    "# 라이브러리 로드\n",
    "import pandas as pd\n",
    "import numpy as np\n",
    "from sklearn.model_selection import train_test_split\n",
    "\n",
    "from sklearn.model_selection import cross_validate\n",
    "from sklearn.ensemble import RandomForestClassifier\n",
    "from sklearn.ensemble import ExtraTreesClassifier\n",
    "from sklearn.ensemble import GradientBoostingClassifier\n",
    "\n",
    "from sklearn.inspection import permutation_importance\n",
    "from xgboost import XGBClassifier\n",
    "from lightgbm import LGBMClassifier\n",
    "\n",
    "import time\n",
    "import warnings\n",
    "warnings.filterwarnings('ignore')\n",
    "\n",
    "from sklearn.svm import SVC\n",
    "from sklearn.metrics import accuracy_score\n",
    "\n",
    "import seaborn as sns\n",
    "%matplotlib inline"
   ]
  },
  {
   "cell_type": "code",
   "execution_count": 2,
   "metadata": {},
   "outputs": [],
   "source": [
    "# 데이터 로딩딩\n",
    "df = pd.read_csv('./data/up_sampling.csv', encoding='utf-8')"
   ]
  },
  {
   "cell_type": "code",
   "execution_count": 3,
   "metadata": {},
   "outputs": [
    {
     "data": {
      "text/html": [
       "<div>\n",
       "<style scoped>\n",
       "    .dataframe tbody tr th:only-of-type {\n",
       "        vertical-align: middle;\n",
       "    }\n",
       "\n",
       "    .dataframe tbody tr th {\n",
       "        vertical-align: top;\n",
       "    }\n",
       "\n",
       "    .dataframe thead th {\n",
       "        text-align: right;\n",
       "    }\n",
       "</style>\n",
       "<table border=\"1\" class=\"dataframe\">\n",
       "  <thead>\n",
       "    <tr style=\"text-align: right;\">\n",
       "      <th></th>\n",
       "      <th>일시</th>\n",
       "      <th>WIND_SPEED</th>\n",
       "      <th>GUST_WIND</th>\n",
       "      <th>SIG_WAVE</th>\n",
       "      <th>MAX_WAVE</th>\n",
       "      <th>HPA</th>\n",
       "      <th>특보강도</th>\n",
       "    </tr>\n",
       "  </thead>\n",
       "  <tbody>\n",
       "    <tr>\n",
       "      <th>0</th>\n",
       "      <td>2012-04-21 18:00:00</td>\n",
       "      <td>5.5</td>\n",
       "      <td>12.7</td>\n",
       "      <td>1.1</td>\n",
       "      <td>1.7</td>\n",
       "      <td>1007.0</td>\n",
       "      <td>1.0</td>\n",
       "    </tr>\n",
       "    <tr>\n",
       "      <th>1</th>\n",
       "      <td>2018-08-17 07:00:00</td>\n",
       "      <td>10.6</td>\n",
       "      <td>15.2</td>\n",
       "      <td>0.7</td>\n",
       "      <td>1.1</td>\n",
       "      <td>1012.9</td>\n",
       "      <td>1.0</td>\n",
       "    </tr>\n",
       "    <tr>\n",
       "      <th>2</th>\n",
       "      <td>2018-06-10 12:00:00</td>\n",
       "      <td>6.5</td>\n",
       "      <td>15.2</td>\n",
       "      <td>0.8</td>\n",
       "      <td>1.2</td>\n",
       "      <td>1005.4</td>\n",
       "      <td>1.0</td>\n",
       "    </tr>\n",
       "    <tr>\n",
       "      <th>3</th>\n",
       "      <td>2018-05-20 12:00:00</td>\n",
       "      <td>10.7</td>\n",
       "      <td>18.8</td>\n",
       "      <td>0.8</td>\n",
       "      <td>1.1</td>\n",
       "      <td>1019.9</td>\n",
       "      <td>1.0</td>\n",
       "    </tr>\n",
       "    <tr>\n",
       "      <th>4</th>\n",
       "      <td>2015-11-25 09:00:00</td>\n",
       "      <td>6.4</td>\n",
       "      <td>13.3</td>\n",
       "      <td>0.9</td>\n",
       "      <td>1.4</td>\n",
       "      <td>1019.2</td>\n",
       "      <td>1.0</td>\n",
       "    </tr>\n",
       "    <tr>\n",
       "      <th>...</th>\n",
       "      <td>...</td>\n",
       "      <td>...</td>\n",
       "      <td>...</td>\n",
       "      <td>...</td>\n",
       "      <td>...</td>\n",
       "      <td>...</td>\n",
       "      <td>...</td>\n",
       "    </tr>\n",
       "    <tr>\n",
       "      <th>138971</th>\n",
       "      <td>2020-12-29 22:00:00</td>\n",
       "      <td>12.5</td>\n",
       "      <td>15.9</td>\n",
       "      <td>1.0</td>\n",
       "      <td>1.7</td>\n",
       "      <td>1013.4</td>\n",
       "      <td>0.0</td>\n",
       "    </tr>\n",
       "    <tr>\n",
       "      <th>138972</th>\n",
       "      <td>2020-12-29 23:00:00</td>\n",
       "      <td>13.3</td>\n",
       "      <td>17.3</td>\n",
       "      <td>1.1</td>\n",
       "      <td>1.6</td>\n",
       "      <td>1013.1</td>\n",
       "      <td>0.0</td>\n",
       "    </tr>\n",
       "    <tr>\n",
       "      <th>138973</th>\n",
       "      <td>2020-12-30 00:00:00</td>\n",
       "      <td>13.6</td>\n",
       "      <td>16.8</td>\n",
       "      <td>1.1</td>\n",
       "      <td>1.8</td>\n",
       "      <td>1013.5</td>\n",
       "      <td>0.0</td>\n",
       "    </tr>\n",
       "    <tr>\n",
       "      <th>138974</th>\n",
       "      <td>2020-12-30 01:00:00</td>\n",
       "      <td>12.3</td>\n",
       "      <td>15.8</td>\n",
       "      <td>1.1</td>\n",
       "      <td>1.8</td>\n",
       "      <td>1014.1</td>\n",
       "      <td>0.0</td>\n",
       "    </tr>\n",
       "    <tr>\n",
       "      <th>138975</th>\n",
       "      <td>2020-12-30 02:00:00</td>\n",
       "      <td>9.3</td>\n",
       "      <td>13.1</td>\n",
       "      <td>1.2</td>\n",
       "      <td>1.7</td>\n",
       "      <td>1014.0</td>\n",
       "      <td>0.0</td>\n",
       "    </tr>\n",
       "  </tbody>\n",
       "</table>\n",
       "<p>138976 rows × 7 columns</p>\n",
       "</div>"
      ],
      "text/plain": [
       "                         일시  WIND_SPEED  GUST_WIND  SIG_WAVE  MAX_WAVE  \\\n",
       "0       2012-04-21 18:00:00         5.5       12.7       1.1       1.7   \n",
       "1       2018-08-17 07:00:00        10.6       15.2       0.7       1.1   \n",
       "2       2018-06-10 12:00:00         6.5       15.2       0.8       1.2   \n",
       "3       2018-05-20 12:00:00        10.7       18.8       0.8       1.1   \n",
       "4       2015-11-25 09:00:00         6.4       13.3       0.9       1.4   \n",
       "...                     ...         ...        ...       ...       ...   \n",
       "138971  2020-12-29 22:00:00        12.5       15.9       1.0       1.7   \n",
       "138972  2020-12-29 23:00:00        13.3       17.3       1.1       1.6   \n",
       "138973  2020-12-30 00:00:00        13.6       16.8       1.1       1.8   \n",
       "138974  2020-12-30 01:00:00        12.3       15.8       1.1       1.8   \n",
       "138975  2020-12-30 02:00:00         9.3       13.1       1.2       1.7   \n",
       "\n",
       "           HPA  특보강도  \n",
       "0       1007.0   1.0  \n",
       "1       1012.9   1.0  \n",
       "2       1005.4   1.0  \n",
       "3       1019.9   1.0  \n",
       "4       1019.2   1.0  \n",
       "...        ...   ...  \n",
       "138971  1013.4   0.0  \n",
       "138972  1013.1   0.0  \n",
       "138973  1013.5   0.0  \n",
       "138974  1014.1   0.0  \n",
       "138975  1014.0   0.0  \n",
       "\n",
       "[138976 rows x 7 columns]"
      ]
     },
     "execution_count": 3,
     "metadata": {},
     "output_type": "execute_result"
    }
   ],
   "source": [
    "df"
   ]
  },
  {
   "cell_type": "code",
   "execution_count": 4,
   "metadata": {},
   "outputs": [],
   "source": [
    "# 데이터셋\n",
    "data = df[['WIND_SPEED', 'GUST_WIND', 'SIG_WAVE', 'MAX_WAVE', 'HPA']].to_numpy()\n",
    "target = df['특보강도'].to_numpy()"
   ]
  },
  {
   "cell_type": "code",
   "execution_count": 5,
   "metadata": {},
   "outputs": [],
   "source": [
    "# 훈련세트, 테스트 세트 나누기\n",
    "train_input, test_input, train_target, test_target = train_test_split(data, target, test_size=0.2, random_state=42)"
   ]
  },
  {
   "cell_type": "code",
   "execution_count": 6,
   "metadata": {},
   "outputs": [
    {
     "name": "stdout",
     "output_type": "stream",
     "text": [
      "0.9999640223061702 0.9841248425975895\n"
     ]
    }
   ],
   "source": [
    "# 교차 검증 수행 (훈련세트와 검증세트 점수 비교해서 과대적합 파악)\n",
    "rf = RandomForestClassifier(n_jobs=-1, random_state=42)\n",
    "scores = cross_validate(rf, train_input, train_target,\n",
    "                        return_train_score=True, n_jobs=-1)\n",
    "print(np.mean(scores['train_score']), np.mean(scores['test_score']))"
   ]
  },
  {
   "cell_type": "code",
   "execution_count": 7,
   "metadata": {},
   "outputs": [
    {
     "name": "stdout",
     "output_type": "stream",
     "text": [
      "[0.14910333 0.36452282 0.17113899 0.13360738 0.18162748]\n"
     ]
    }
   ],
   "source": [
    "# 랜덤 포레스트 특성 중요도 출력\n",
    "# 결정트리랑 비교 해보기\n",
    "rf.fit(train_input, train_target)\n",
    "print(rf.feature_importances_)"
   ]
  },
  {
   "cell_type": "code",
   "execution_count": 8,
   "metadata": {},
   "outputs": [
    {
     "name": "stdout",
     "output_type": "stream",
     "text": [
      "0.9872728908076992\n"
     ]
    }
   ],
   "source": [
    "# OOB 점수를 출력\n",
    "rf = RandomForestClassifier(oob_score=True, n_jobs=-1, random_state=42)\n",
    "rf.fit(train_input, train_target)\n",
    "print(rf.oob_score_)\n"
   ]
  },
  {
   "cell_type": "code",
   "execution_count": 10,
   "metadata": {},
   "outputs": [
    {
     "name": "stdout",
     "output_type": "stream",
     "text": [
      "랜덤 포레스트 정확도: 0.9879\n"
     ]
    }
   ],
   "source": [
    "# 랜덤 포레스트 학습 및 별도의 테스트 셋으로 예측 성능 평가\n",
    "rf_clf = RandomForestClassifier(random_state=0)\n",
    "\n",
    "rf_clf.fit(train_input , train_target)\n",
    "\n",
    "pred = rf_clf.predict(test_input)\n",
    "\n",
    "accuracy = accuracy_score(test_target, pred)\n",
    "\n",
    "print('랜덤 포레스트 정확도: {0:.4f}'.format(accuracy))"
   ]
  },
  {
   "cell_type": "code",
   "execution_count": null,
   "metadata": {},
   "outputs": [],
   "source": []
  }
 ],
 "metadata": {
  "kernelspec": {
   "display_name": "Python 3.9.13 64-bit",
   "language": "python",
   "name": "python3"
  },
  "language_info": {
   "codemirror_mode": {
    "name": "ipython",
    "version": 3
   },
   "file_extension": ".py",
   "mimetype": "text/x-python",
   "name": "python",
   "nbconvert_exporter": "python",
   "pygments_lexer": "ipython3",
   "version": "3.9.13"
  },
  "orig_nbformat": 4,
  "vscode": {
   "interpreter": {
    "hash": "81794d4967e6c3204c66dcd87b604927b115b27c00565d3d43f05ba2f3a2cb0d"
   }
  }
 },
 "nbformat": 4,
 "nbformat_minor": 2
}
