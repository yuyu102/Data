{
 "cells": [
  {
   "cell_type": "markdown",
   "metadata": {},
   "source": [
    "# Random_forest\n",
    "* minmax 해서 모델1"
   ]
  },
  {
   "cell_type": "code",
   "execution_count": 1,
   "metadata": {},
   "outputs": [],
   "source": [
    "# 라이브러리 로드\n",
    "import pandas as pd\n",
    "import numpy as np\n",
    "from sklearn.model_selection import train_test_split\n",
    "\n",
    "from sklearn.model_selection import cross_validate\n",
    "from sklearn.ensemble import RandomForestClassifier\n",
    "from sklearn.ensemble import ExtraTreesClassifier\n",
    "from sklearn.ensemble import GradientBoostingClassifier\n",
    "\n",
    "from sklearn.inspection import permutation_importance\n",
    "from xgboost import XGBClassifier\n",
    "from lightgbm import LGBMClassifier\n",
    "\n",
    "import time\n",
    "import warnings\n",
    "warnings.filterwarnings('ignore')\n",
    "\n",
    "from sklearn.svm import SVC\n",
    "from sklearn.metrics import accuracy_score\n",
    "\n",
    "import seaborn as sns\n",
    "%matplotlib inline\n",
    "import joblib"
   ]
  },
  {
   "cell_type": "code",
   "execution_count": 2,
   "metadata": {},
   "outputs": [],
   "source": [
    "# 평가지표\n",
    "from sklearn.metrics import roc_auc_score\n",
    "from sklearn.metrics import f1_score \n",
    "from sklearn.metrics import accuracy_score, precision_score , recall_score , confusion_matrix\n",
    "from sklearn.base import BaseEstimator"
   ]
  },
  {
   "cell_type": "code",
   "execution_count": 3,
   "metadata": {},
   "outputs": [
    {
     "data": {
      "text/html": [
       "<div>\n",
       "<style scoped>\n",
       "    .dataframe tbody tr th:only-of-type {\n",
       "        vertical-align: middle;\n",
       "    }\n",
       "\n",
       "    .dataframe tbody tr th {\n",
       "        vertical-align: top;\n",
       "    }\n",
       "\n",
       "    .dataframe thead th {\n",
       "        text-align: right;\n",
       "    }\n",
       "</style>\n",
       "<table border=\"1\" class=\"dataframe\">\n",
       "  <thead>\n",
       "    <tr style=\"text-align: right;\">\n",
       "      <th></th>\n",
       "      <th>일시</th>\n",
       "      <th>WIND_SPEED</th>\n",
       "      <th>GUST_WIND</th>\n",
       "      <th>SIG_WAVE</th>\n",
       "      <th>MAX_WAVE</th>\n",
       "      <th>HPA</th>\n",
       "      <th>특보강도</th>\n",
       "    </tr>\n",
       "  </thead>\n",
       "  <tbody>\n",
       "    <tr>\n",
       "      <th>0</th>\n",
       "      <td>2012-08-02 04:00:00</td>\n",
       "      <td>0.334646</td>\n",
       "      <td>0.409742</td>\n",
       "      <td>0.107143</td>\n",
       "      <td>0.128205</td>\n",
       "      <td>0.463588</td>\n",
       "      <td>1.0</td>\n",
       "    </tr>\n",
       "    <tr>\n",
       "      <th>1</th>\n",
       "      <td>2018-06-15 18:00:00</td>\n",
       "      <td>0.350394</td>\n",
       "      <td>0.438395</td>\n",
       "      <td>0.107143</td>\n",
       "      <td>0.115385</td>\n",
       "      <td>0.529307</td>\n",
       "      <td>1.0</td>\n",
       "    </tr>\n",
       "    <tr>\n",
       "      <th>2</th>\n",
       "      <td>2018-04-24 12:00:00</td>\n",
       "      <td>0.188976</td>\n",
       "      <td>0.375358</td>\n",
       "      <td>0.089286</td>\n",
       "      <td>0.089744</td>\n",
       "      <td>0.467140</td>\n",
       "      <td>1.0</td>\n",
       "    </tr>\n",
       "    <tr>\n",
       "      <th>3</th>\n",
       "      <td>2018-03-22 06:00:00</td>\n",
       "      <td>0.094488</td>\n",
       "      <td>0.300860</td>\n",
       "      <td>0.285714</td>\n",
       "      <td>0.282051</td>\n",
       "      <td>0.536412</td>\n",
       "      <td>1.0</td>\n",
       "    </tr>\n",
       "    <tr>\n",
       "      <th>4</th>\n",
       "      <td>2018-03-17 08:00:00</td>\n",
       "      <td>0.192913</td>\n",
       "      <td>0.249284</td>\n",
       "      <td>0.107143</td>\n",
       "      <td>0.115385</td>\n",
       "      <td>0.870337</td>\n",
       "      <td>1.0</td>\n",
       "    </tr>\n",
       "    <tr>\n",
       "      <th>...</th>\n",
       "      <td>...</td>\n",
       "      <td>...</td>\n",
       "      <td>...</td>\n",
       "      <td>...</td>\n",
       "      <td>...</td>\n",
       "      <td>...</td>\n",
       "      <td>...</td>\n",
       "    </tr>\n",
       "    <tr>\n",
       "      <th>199504</th>\n",
       "      <td>2018-03-20 10:00:00</td>\n",
       "      <td>0.578740</td>\n",
       "      <td>0.756447</td>\n",
       "      <td>0.392857</td>\n",
       "      <td>0.410256</td>\n",
       "      <td>0.735346</td>\n",
       "      <td>2.0</td>\n",
       "    </tr>\n",
       "    <tr>\n",
       "      <th>199505</th>\n",
       "      <td>2012-04-03 07:00:00</td>\n",
       "      <td>0.212598</td>\n",
       "      <td>0.469914</td>\n",
       "      <td>0.196429</td>\n",
       "      <td>0.217949</td>\n",
       "      <td>0.197158</td>\n",
       "      <td>2.0</td>\n",
       "    </tr>\n",
       "    <tr>\n",
       "      <th>199506</th>\n",
       "      <td>2018-07-03 20:00:00</td>\n",
       "      <td>0.622047</td>\n",
       "      <td>0.767908</td>\n",
       "      <td>0.410714</td>\n",
       "      <td>0.435897</td>\n",
       "      <td>0.111901</td>\n",
       "      <td>2.0</td>\n",
       "    </tr>\n",
       "    <tr>\n",
       "      <th>199507</th>\n",
       "      <td>2018-03-20 09:00:00</td>\n",
       "      <td>0.531496</td>\n",
       "      <td>0.704871</td>\n",
       "      <td>0.357143</td>\n",
       "      <td>0.371795</td>\n",
       "      <td>0.721137</td>\n",
       "      <td>2.0</td>\n",
       "    </tr>\n",
       "    <tr>\n",
       "      <th>199508</th>\n",
       "      <td>2018-03-22 03:00:00</td>\n",
       "      <td>0.129921</td>\n",
       "      <td>0.300860</td>\n",
       "      <td>0.285714</td>\n",
       "      <td>0.294872</td>\n",
       "      <td>0.522202</td>\n",
       "      <td>2.0</td>\n",
       "    </tr>\n",
       "  </tbody>\n",
       "</table>\n",
       "<p>199509 rows × 7 columns</p>\n",
       "</div>"
      ],
      "text/plain": [
       "                         일시  WIND_SPEED  GUST_WIND  SIG_WAVE  MAX_WAVE  \\\n",
       "0       2012-08-02 04:00:00    0.334646   0.409742  0.107143  0.128205   \n",
       "1       2018-06-15 18:00:00    0.350394   0.438395  0.107143  0.115385   \n",
       "2       2018-04-24 12:00:00    0.188976   0.375358  0.089286  0.089744   \n",
       "3       2018-03-22 06:00:00    0.094488   0.300860  0.285714  0.282051   \n",
       "4       2018-03-17 08:00:00    0.192913   0.249284  0.107143  0.115385   \n",
       "...                     ...         ...        ...       ...       ...   \n",
       "199504  2018-03-20 10:00:00    0.578740   0.756447  0.392857  0.410256   \n",
       "199505  2012-04-03 07:00:00    0.212598   0.469914  0.196429  0.217949   \n",
       "199506  2018-07-03 20:00:00    0.622047   0.767908  0.410714  0.435897   \n",
       "199507  2018-03-20 09:00:00    0.531496   0.704871  0.357143  0.371795   \n",
       "199508  2018-03-22 03:00:00    0.129921   0.300860  0.285714  0.294872   \n",
       "\n",
       "             HPA  특보강도  \n",
       "0       0.463588   1.0  \n",
       "1       0.529307   1.0  \n",
       "2       0.467140   1.0  \n",
       "3       0.536412   1.0  \n",
       "4       0.870337   1.0  \n",
       "...          ...   ...  \n",
       "199504  0.735346   2.0  \n",
       "199505  0.197158   2.0  \n",
       "199506  0.111901   2.0  \n",
       "199507  0.721137   2.0  \n",
       "199508  0.522202   2.0  \n",
       "\n",
       "[199509 rows x 7 columns]"
      ]
     },
     "execution_count": 3,
     "metadata": {},
     "output_type": "execute_result"
    }
   ],
   "source": [
    "# 데이터 로딩\n",
    "pdf = pd.read_csv('./MinMax_model01.csv', encoding='utf-8')\n",
    "pdf"
   ]
  },
  {
   "cell_type": "code",
   "execution_count": 4,
   "metadata": {},
   "outputs": [
    {
     "data": {
      "text/html": [
       "<div>\n",
       "<style scoped>\n",
       "    .dataframe tbody tr th:only-of-type {\n",
       "        vertical-align: middle;\n",
       "    }\n",
       "\n",
       "    .dataframe tbody tr th {\n",
       "        vertical-align: top;\n",
       "    }\n",
       "\n",
       "    .dataframe thead th {\n",
       "        text-align: right;\n",
       "    }\n",
       "</style>\n",
       "<table border=\"1\" class=\"dataframe\">\n",
       "  <thead>\n",
       "    <tr style=\"text-align: right;\">\n",
       "      <th></th>\n",
       "      <th>WIND_SPEED</th>\n",
       "      <th>GUST_WIND</th>\n",
       "      <th>SIG_WAVE</th>\n",
       "      <th>MAX_WAVE</th>\n",
       "      <th>HPA</th>\n",
       "      <th>특보강도</th>\n",
       "    </tr>\n",
       "    <tr>\n",
       "      <th>일시</th>\n",
       "      <th></th>\n",
       "      <th></th>\n",
       "      <th></th>\n",
       "      <th></th>\n",
       "      <th></th>\n",
       "      <th></th>\n",
       "    </tr>\n",
       "  </thead>\n",
       "  <tbody>\n",
       "    <tr>\n",
       "      <th>2012-08-02 04:00:00</th>\n",
       "      <td>0.334646</td>\n",
       "      <td>0.409742</td>\n",
       "      <td>0.107143</td>\n",
       "      <td>0.128205</td>\n",
       "      <td>0.463588</td>\n",
       "      <td>1.0</td>\n",
       "    </tr>\n",
       "    <tr>\n",
       "      <th>2018-06-15 18:00:00</th>\n",
       "      <td>0.350394</td>\n",
       "      <td>0.438395</td>\n",
       "      <td>0.107143</td>\n",
       "      <td>0.115385</td>\n",
       "      <td>0.529307</td>\n",
       "      <td>1.0</td>\n",
       "    </tr>\n",
       "    <tr>\n",
       "      <th>2018-04-24 12:00:00</th>\n",
       "      <td>0.188976</td>\n",
       "      <td>0.375358</td>\n",
       "      <td>0.089286</td>\n",
       "      <td>0.089744</td>\n",
       "      <td>0.467140</td>\n",
       "      <td>1.0</td>\n",
       "    </tr>\n",
       "    <tr>\n",
       "      <th>2018-03-22 06:00:00</th>\n",
       "      <td>0.094488</td>\n",
       "      <td>0.300860</td>\n",
       "      <td>0.285714</td>\n",
       "      <td>0.282051</td>\n",
       "      <td>0.536412</td>\n",
       "      <td>1.0</td>\n",
       "    </tr>\n",
       "    <tr>\n",
       "      <th>2018-03-17 08:00:00</th>\n",
       "      <td>0.192913</td>\n",
       "      <td>0.249284</td>\n",
       "      <td>0.107143</td>\n",
       "      <td>0.115385</td>\n",
       "      <td>0.870337</td>\n",
       "      <td>1.0</td>\n",
       "    </tr>\n",
       "    <tr>\n",
       "      <th>...</th>\n",
       "      <td>...</td>\n",
       "      <td>...</td>\n",
       "      <td>...</td>\n",
       "      <td>...</td>\n",
       "      <td>...</td>\n",
       "      <td>...</td>\n",
       "    </tr>\n",
       "    <tr>\n",
       "      <th>2018-03-20 10:00:00</th>\n",
       "      <td>0.578740</td>\n",
       "      <td>0.756447</td>\n",
       "      <td>0.392857</td>\n",
       "      <td>0.410256</td>\n",
       "      <td>0.735346</td>\n",
       "      <td>2.0</td>\n",
       "    </tr>\n",
       "    <tr>\n",
       "      <th>2012-04-03 07:00:00</th>\n",
       "      <td>0.212598</td>\n",
       "      <td>0.469914</td>\n",
       "      <td>0.196429</td>\n",
       "      <td>0.217949</td>\n",
       "      <td>0.197158</td>\n",
       "      <td>2.0</td>\n",
       "    </tr>\n",
       "    <tr>\n",
       "      <th>2018-07-03 20:00:00</th>\n",
       "      <td>0.622047</td>\n",
       "      <td>0.767908</td>\n",
       "      <td>0.410714</td>\n",
       "      <td>0.435897</td>\n",
       "      <td>0.111901</td>\n",
       "      <td>2.0</td>\n",
       "    </tr>\n",
       "    <tr>\n",
       "      <th>2018-03-20 09:00:00</th>\n",
       "      <td>0.531496</td>\n",
       "      <td>0.704871</td>\n",
       "      <td>0.357143</td>\n",
       "      <td>0.371795</td>\n",
       "      <td>0.721137</td>\n",
       "      <td>2.0</td>\n",
       "    </tr>\n",
       "    <tr>\n",
       "      <th>2018-03-22 03:00:00</th>\n",
       "      <td>0.129921</td>\n",
       "      <td>0.300860</td>\n",
       "      <td>0.285714</td>\n",
       "      <td>0.294872</td>\n",
       "      <td>0.522202</td>\n",
       "      <td>2.0</td>\n",
       "    </tr>\n",
       "  </tbody>\n",
       "</table>\n",
       "<p>199509 rows × 6 columns</p>\n",
       "</div>"
      ],
      "text/plain": [
       "                     WIND_SPEED  GUST_WIND  SIG_WAVE  MAX_WAVE       HPA  특보강도\n",
       "일시                                                                            \n",
       "2012-08-02 04:00:00    0.334646   0.409742  0.107143  0.128205  0.463588   1.0\n",
       "2018-06-15 18:00:00    0.350394   0.438395  0.107143  0.115385  0.529307   1.0\n",
       "2018-04-24 12:00:00    0.188976   0.375358  0.089286  0.089744  0.467140   1.0\n",
       "2018-03-22 06:00:00    0.094488   0.300860  0.285714  0.282051  0.536412   1.0\n",
       "2018-03-17 08:00:00    0.192913   0.249284  0.107143  0.115385  0.870337   1.0\n",
       "...                         ...        ...       ...       ...       ...   ...\n",
       "2018-03-20 10:00:00    0.578740   0.756447  0.392857  0.410256  0.735346   2.0\n",
       "2012-04-03 07:00:00    0.212598   0.469914  0.196429  0.217949  0.197158   2.0\n",
       "2018-07-03 20:00:00    0.622047   0.767908  0.410714  0.435897  0.111901   2.0\n",
       "2018-03-20 09:00:00    0.531496   0.704871  0.357143  0.371795  0.721137   2.0\n",
       "2018-03-22 03:00:00    0.129921   0.300860  0.285714  0.294872  0.522202   2.0\n",
       "\n",
       "[199509 rows x 6 columns]"
      ]
     },
     "execution_count": 4,
     "metadata": {},
     "output_type": "execute_result"
    }
   ],
   "source": [
    "# index\n",
    "pdf = pdf.set_index('일시')\n",
    "pdf"
   ]
  },
  {
   "cell_type": "code",
   "execution_count": 7,
   "metadata": {},
   "outputs": [
    {
     "name": "stdout",
     "output_type": "stream",
     "text": [
      "1.0    66503\n",
      "0.0    66503\n",
      "2.0    66503\n",
      "Name: 특보강도, dtype: int64\n"
     ]
    }
   ],
   "source": [
    "print(pdf[\"특보강도\"].value_counts())"
   ]
  },
  {
   "cell_type": "code",
   "execution_count": 8,
   "metadata": {},
   "outputs": [],
   "source": [
    "# 데이터셋\n",
    "X_data = pdf[['WIND_SPEED', 'GUST_WIND', 'SIG_WAVE', 'MAX_WAVE', 'HPA']]\n",
    "y_target = pdf['특보강도']"
   ]
  },
  {
   "cell_type": "code",
   "execution_count": 9,
   "metadata": {},
   "outputs": [],
   "source": [
    "# 훈련세트와 테스트 세트로 나누기\n",
    "# pdf = train_input, test_input, train_target, test_target = train_test_split(data, target, test_size=0.2, random_state=42)"
   ]
  },
  {
   "cell_type": "markdown",
   "metadata": {},
   "source": [
    "* 학습시작"
   ]
  },
  {
   "cell_type": "code",
   "execution_count": 10,
   "metadata": {},
   "outputs": [],
   "source": [
    "X_train, X_test, y_train, y_test = train_test_split(X_data,y_target, random_state=11)"
   ]
  },
  {
   "cell_type": "code",
   "execution_count": 11,
   "metadata": {},
   "outputs": [
    {
     "data": {
      "text/plain": [
       "(149631, 5)"
      ]
     },
     "execution_count": 11,
     "metadata": {},
     "output_type": "execute_result"
    }
   ],
   "source": [
    "X_train.shape"
   ]
  },
  {
   "cell_type": "code",
   "execution_count": 12,
   "metadata": {},
   "outputs": [
    {
     "data": {
      "text/plain": [
       "(49878, 5)"
      ]
     },
     "execution_count": 12,
     "metadata": {},
     "output_type": "execute_result"
    }
   ],
   "source": [
    "X_test.shape"
   ]
  },
  {
   "cell_type": "code",
   "execution_count": 13,
   "metadata": {},
   "outputs": [
    {
     "data": {
      "text/plain": [
       "(149631,)"
      ]
     },
     "execution_count": 13,
     "metadata": {},
     "output_type": "execute_result"
    }
   ],
   "source": [
    "y_train.shape"
   ]
  },
  {
   "cell_type": "code",
   "execution_count": 14,
   "metadata": {},
   "outputs": [
    {
     "data": {
      "text/plain": [
       "(49878,)"
      ]
     },
     "execution_count": 14,
     "metadata": {},
     "output_type": "execute_result"
    }
   ],
   "source": [
    "y_test.shape"
   ]
  },
  {
   "cell_type": "code",
   "execution_count": 15,
   "metadata": {},
   "outputs": [
    {
     "name": "stdout",
     "output_type": "stream",
     "text": [
      "<class 'pandas.core.frame.DataFrame'>\n",
      "Index: 199509 entries, 2012-08-02 04:00:00 to 2018-03-22 03:00:00\n",
      "Data columns (total 6 columns):\n",
      " #   Column      Non-Null Count   Dtype  \n",
      "---  ------      --------------   -----  \n",
      " 0   WIND_SPEED  199509 non-null  float64\n",
      " 1   GUST_WIND   199509 non-null  float64\n",
      " 2   SIG_WAVE    199509 non-null  float64\n",
      " 3   MAX_WAVE    199509 non-null  float64\n",
      " 4   HPA         199509 non-null  float64\n",
      " 5   특보강도        199509 non-null  float64\n",
      "dtypes: float64(6)\n",
      "memory usage: 14.7+ MB\n"
     ]
    }
   ],
   "source": [
    "pdf.info()"
   ]
  },
  {
   "cell_type": "code",
   "execution_count": 16,
   "metadata": {},
   "outputs": [
    {
     "name": "stdout",
     "output_type": "stream",
     "text": [
      "레이블 테스트 세트 크기 : (199509,)\n",
      "테스트 세트 레이블 0 과 1의 분포도\n",
      "1.0    66503\n",
      "0.0    66503\n",
      "2.0    66503\n",
      "Name: 특보강도, dtype: int64\n"
     ]
    }
   ],
   "source": [
    "# 불균형한 레이블 데이터 분포도 확인. \n",
    "print('레이블 테스트 세트 크기 :', y_target.shape)\n",
    "print('테스트 세트 레이블 0 과 1의 분포도')\n",
    "print(pd.Series(y_target).value_counts())"
   ]
  },
  {
   "cell_type": "code",
   "execution_count": 18,
   "metadata": {},
   "outputs": [
    {
     "name": "stdout",
     "output_type": "stream",
     "text": [
      "0.9999899753927218 0.990491690356016\n"
     ]
    }
   ],
   "source": [
    "# 교차 검증 수행 (훈련세트와 검증세트 점수 비교해서 과대적합 파악)\n",
    "rf = RandomForestClassifier(n_jobs=-1, random_state=42)\n",
    "scores = cross_validate(rf, X_data, y_target,\n",
    "                        return_train_score=True, n_jobs=-1)\n",
    "print(np.mean(scores['train_score']), np.mean(scores['test_score']))\n"
   ]
  },
  {
   "cell_type": "code",
   "execution_count": 19,
   "metadata": {},
   "outputs": [
    {
     "name": "stdout",
     "output_type": "stream",
     "text": [
      "[0.13202633 0.2378497  0.23154015 0.28044565 0.11813816]\n"
     ]
    }
   ],
   "source": [
    "# 랜덤 포레스트 특성 중요도 출력\n",
    "# 결정트리랑 비교 해보기\n",
    "rf.fit(X_data, y_target)\n",
    "print(rf.feature_importances_)"
   ]
  },
  {
   "cell_type": "code",
   "execution_count": 20,
   "metadata": {},
   "outputs": [
    {
     "name": "stdout",
     "output_type": "stream",
     "text": [
      "0.995940032780476\n"
     ]
    }
   ],
   "source": [
    "# OOB 점수를 출력\n",
    "rf = RandomForestClassifier(oob_score=True, n_jobs=-1, random_state=42)\n",
    "rf.fit(X_data, y_target)\n",
    "print(rf.oob_score_)"
   ]
  },
  {
   "cell_type": "code",
   "execution_count": 23,
   "metadata": {},
   "outputs": [
    {
     "name": "stdout",
     "output_type": "stream",
     "text": [
      "랜덤 포레스트 정확도: 0.9939\n"
     ]
    }
   ],
   "source": [
    "# 랜덤 포레스트 학습 및 별도의 테스트 세트로 예측 성능 평가\n",
    "rf_clf = RandomForestClassifier(random_state=0)\n",
    "rf_clf.fit(X_train, y_train)\n",
    "pred = rf_clf.predict(X_test)\n",
    "accuracy = accuracy_score(y_test, pred)\n",
    "print('랜덤 포레스트 정확도: {:.4f}'.format(accuracy))"
   ]
  },
  {
   "cell_type": "code",
   "execution_count": null,
   "metadata": {
    "scrolled": true
   },
   "outputs": [],
   "source": []
  },
  {
   "cell_type": "code",
   "execution_count": 24,
   "metadata": {},
   "outputs": [
    {
     "data": {
      "text/html": [
       "<style>#sk-container-id-1 {color: black;background-color: white;}#sk-container-id-1 pre{padding: 0;}#sk-container-id-1 div.sk-toggleable {background-color: white;}#sk-container-id-1 label.sk-toggleable__label {cursor: pointer;display: block;width: 100%;margin-bottom: 0;padding: 0.3em;box-sizing: border-box;text-align: center;}#sk-container-id-1 label.sk-toggleable__label-arrow:before {content: \"▸\";float: left;margin-right: 0.25em;color: #696969;}#sk-container-id-1 label.sk-toggleable__label-arrow:hover:before {color: black;}#sk-container-id-1 div.sk-estimator:hover label.sk-toggleable__label-arrow:before {color: black;}#sk-container-id-1 div.sk-toggleable__content {max-height: 0;max-width: 0;overflow: hidden;text-align: left;background-color: #f0f8ff;}#sk-container-id-1 div.sk-toggleable__content pre {margin: 0.2em;color: black;border-radius: 0.25em;background-color: #f0f8ff;}#sk-container-id-1 input.sk-toggleable__control:checked~div.sk-toggleable__content {max-height: 200px;max-width: 100%;overflow: auto;}#sk-container-id-1 input.sk-toggleable__control:checked~label.sk-toggleable__label-arrow:before {content: \"▾\";}#sk-container-id-1 div.sk-estimator input.sk-toggleable__control:checked~label.sk-toggleable__label {background-color: #d4ebff;}#sk-container-id-1 div.sk-label input.sk-toggleable__control:checked~label.sk-toggleable__label {background-color: #d4ebff;}#sk-container-id-1 input.sk-hidden--visually {border: 0;clip: rect(1px 1px 1px 1px);clip: rect(1px, 1px, 1px, 1px);height: 1px;margin: -1px;overflow: hidden;padding: 0;position: absolute;width: 1px;}#sk-container-id-1 div.sk-estimator {font-family: monospace;background-color: #f0f8ff;border: 1px dotted black;border-radius: 0.25em;box-sizing: border-box;margin-bottom: 0.5em;}#sk-container-id-1 div.sk-estimator:hover {background-color: #d4ebff;}#sk-container-id-1 div.sk-parallel-item::after {content: \"\";width: 100%;border-bottom: 1px solid gray;flex-grow: 1;}#sk-container-id-1 div.sk-label:hover label.sk-toggleable__label {background-color: #d4ebff;}#sk-container-id-1 div.sk-serial::before {content: \"\";position: absolute;border-left: 1px solid gray;box-sizing: border-box;top: 0;bottom: 0;left: 50%;z-index: 0;}#sk-container-id-1 div.sk-serial {display: flex;flex-direction: column;align-items: center;background-color: white;padding-right: 0.2em;padding-left: 0.2em;position: relative;}#sk-container-id-1 div.sk-item {position: relative;z-index: 1;}#sk-container-id-1 div.sk-parallel {display: flex;align-items: stretch;justify-content: center;background-color: white;position: relative;}#sk-container-id-1 div.sk-item::before, #sk-container-id-1 div.sk-parallel-item::before {content: \"\";position: absolute;border-left: 1px solid gray;box-sizing: border-box;top: 0;bottom: 0;left: 50%;z-index: -1;}#sk-container-id-1 div.sk-parallel-item {display: flex;flex-direction: column;z-index: 1;position: relative;background-color: white;}#sk-container-id-1 div.sk-parallel-item:first-child::after {align-self: flex-end;width: 50%;}#sk-container-id-1 div.sk-parallel-item:last-child::after {align-self: flex-start;width: 50%;}#sk-container-id-1 div.sk-parallel-item:only-child::after {width: 0;}#sk-container-id-1 div.sk-dashed-wrapped {border: 1px dashed gray;margin: 0 0.4em 0.5em 0.4em;box-sizing: border-box;padding-bottom: 0.4em;background-color: white;}#sk-container-id-1 div.sk-label label {font-family: monospace;font-weight: bold;display: inline-block;line-height: 1.2em;}#sk-container-id-1 div.sk-label-container {text-align: center;}#sk-container-id-1 div.sk-container {/* jupyter's `normalize.less` sets `[hidden] { display: none; }` but bootstrap.min.css set `[hidden] { display: none !important; }` so we also need the `!important` here to be able to override the default hidden behavior on the sphinx rendered scikit-learn.org. See: https://github.com/scikit-learn/scikit-learn/issues/21755 */display: inline-block !important;position: relative;}#sk-container-id-1 div.sk-text-repr-fallback {display: none;}</style><div id=\"sk-container-id-1\" class=\"sk-top-container\"><div class=\"sk-text-repr-fallback\"><pre>RandomForestClassifier()</pre><b>In a Jupyter environment, please rerun this cell to show the HTML representation or trust the notebook. <br />On GitHub, the HTML representation is unable to render, please try loading this page with nbviewer.org.</b></div><div class=\"sk-container\" hidden><div class=\"sk-item\"><div class=\"sk-estimator sk-toggleable\"><input class=\"sk-toggleable__control sk-hidden--visually\" id=\"sk-estimator-id-1\" type=\"checkbox\" checked><label for=\"sk-estimator-id-1\" class=\"sk-toggleable__label sk-toggleable__label-arrow\">RandomForestClassifier</label><div class=\"sk-toggleable__content\"><pre>RandomForestClassifier()</pre></div></div></div></div></div>"
      ],
      "text/plain": [
       "RandomForestClassifier()"
      ]
     },
     "execution_count": 24,
     "metadata": {},
     "output_type": "execute_result"
    }
   ],
   "source": [
    "# RandomForest의 하이퍼 파라미터 default 상태\n",
    "model = RandomForestClassifier()\n",
    "model"
   ]
  },
  {
   "cell_type": "markdown",
   "metadata": {},
   "source": [
    "* plot"
   ]
  },
  {
   "cell_type": "code",
   "execution_count": 25,
   "metadata": {},
   "outputs": [
    {
     "data": {
      "image/png": "[encoded data removed]",
      "text/plain": [
       "<Figure size 800x600 with 1 Axes>"
      ]
     },
     "metadata": {},
     "output_type": "display_data"
    }
   ],
   "source": [
    "import matplotlib.pyplot as plt\n",
    "import seaborn as sns\n",
    "%matplotlib inline\n",
    "import numpy as np\n",
    "\n",
    "ftr_importances_values = rf_clf.feature_importances_\n",
    "ftr_importances = pd.Series(ftr_importances_values,index=X_train.columns  )\n",
    "ftr_top20 = ftr_importances.sort_values(ascending=False)[:20]\n",
    "\n",
    "plt.figure(figsize=(8,6))\n",
    "plt.title('Feature importances Top 5')\n",
    "sns.barplot(x=ftr_top20 , y = ftr_top20.index)\n",
    "plt.show()"
   ]
  },
  {
   "cell_type": "markdown",
   "metadata": {},
   "source": [
    "* 하이퍼 파라미터"
   ]
  },
  {
   "cell_type": "code",
   "execution_count": 26,
   "metadata": {},
   "outputs": [
    {
     "name": "stdout",
     "output_type": "stream",
     "text": [
      "최적 하이퍼 파라미터:  {'max_depth': 12, 'min_samples_leaf': 8, 'min_samples_split': 8, 'n_estimators': 100}\n",
      "최고 예측 정확도: 0.9549\n"
     ]
    }
   ],
   "source": [
    "from sklearn.model_selection import GridSearchCV\n",
    "\n",
    "params = { 'n_estimators' : [10, 100],\n",
    "           'max_depth' : [6, 8, 10, 12],\n",
    "           'min_samples_leaf' : [8, 12, 18],\n",
    "           'min_samples_split' : [8, 16, 20]\n",
    "            }\n",
    "\n",
    "# RandomForestClassifier 객체 생성 후 GridSearchCV 수행\n",
    "rf_clf = RandomForestClassifier(random_state = 0, n_jobs = -1)\n",
    "grid_cv = GridSearchCV(rf_clf, param_grid = params, cv = 3, n_jobs = -1)\n",
    "grid_cv.fit(X_train, y_train)\n",
    "\n",
    "print('최적 하이퍼 파라미터: ', grid_cv.best_params_)\n",
    "print('최고 예측 정확도: {:.4f}'.format(grid_cv.best_score_))"
   ]
  },
  {
   "cell_type": "code",
   "execution_count": 29,
   "metadata": {},
   "outputs": [
    {
     "name": "stdout",
     "output_type": "stream",
     "text": [
      "예측 정확도: 0.9580\n"
     ]
    }
   ],
   "source": [
    "#위의 결과로 나온 최적 하이퍼 파라미터로 다시 모델을 학습하여 테스트 세트 데이터에서 예측 성능을 측정\n",
    "rf_clf1 = RandomForestClassifier(n_estimators = 100, \n",
    "                                max_depth = 12,\n",
    "                                min_samples_leaf = 8,\n",
    "                                min_samples_split = 8,\n",
    "                                random_state = 0,\n",
    "                                n_jobs = -1)\n",
    "rf_clf1.fit(X_train, y_train)\n",
    "pred = rf_clf1.predict(X_test)\n",
    "print('예측 정확도: {:.4f}'.format(accuracy_score(y_test,pred)))"
   ]
  },
  {
   "cell_type": "code",
   "execution_count": 44,
   "metadata": {},
   "outputs": [
    {
     "data": {
      "text/plain": [
       "['Random_forest_model01.pkl']"
      ]
     },
     "execution_count": 44,
     "metadata": {},
     "output_type": "execute_result"
    }
   ],
   "source": [
    "joblib.dump(rf_clf1, 'Random_forest_model01.pkl')"
   ]
  },
  {
   "cell_type": "markdown",
   "metadata": {},
   "source": [
    "* 평가지표"
   ]
  },
  {
   "cell_type": "code",
   "execution_count": 31,
   "metadata": {},
   "outputs": [],
   "source": [
    "class MyFakeClassifier(BaseEstimator):\n",
    "    def fit(self,X,y):\n",
    "        pass\n",
    "    \n",
    "    # 입력값으로 들어오는 X 데이터 셋의 크기만큼 모두 0값으로 만들어서 반환\n",
    "    # 분류의 대상이 되는 숫자가 7이든 아니든 상관없이 다수의 레이블 값인 0으로 만들어서 반환\n",
    "    \n",
    "    def predict(self,X):\n",
    "        return np.zeros( (len(X), 1) , dtype=bool)"
   ]
  },
  {
   "cell_type": "code",
   "execution_count": null,
   "metadata": {},
   "outputs": [],
   "source": [
    "# 불균형한 레이블 데이터 분포도 확인. \n",
    "print('레이블 테스트 세트 크기 :', y_target.shape)\n",
    "print('테스트 세트 레이블 0 과 1의 분포도')\n",
    "print(pd.Series(y_target).value_counts())"
   ]
  },
  {
   "cell_type": "code",
   "execution_count": null,
   "metadata": {},
   "outputs": [],
   "source": [
    "# Fake Classifier로 학습/예측/정확도 평가\n",
    "fakeclf = MyFakeClassifier()\n",
    "\n",
    "fakeclf.fit(X_train , y_train)\n",
    "\n",
    "fakepred = fakeclf.predict(X_test)\n",
    "\n",
    "print('모든 예측을 0으로 하여도 정확도는:{:.3f}'.format(accuracy_score(y_test , fakepred)))"
   ]
  },
  {
   "cell_type": "markdown",
   "metadata": {},
   "source": [
    "# 평가지표"
   ]
  },
  {
   "cell_type": "code",
   "execution_count": 33,
   "metadata": {},
   "outputs": [],
   "source": [
    "from sklearn.metrics import accuracy_score"
   ]
  },
  {
   "cell_type": "code",
   "execution_count": 43,
   "metadata": {},
   "outputs": [
    {
     "name": "stdout",
     "output_type": "stream",
     "text": [
      "랜덤포레스트 결과\n",
      "정확도: 0.957997513933999\n",
      "재현율(recall): 0.9579336167235576\n",
      "정밀도(precision): 0.9587627345335578\n",
      "F1 score: 0.957925807161628\n"
     ]
    }
   ],
   "source": [
    "def print_metrics(y, pred_y, title=None) :\n",
    "    print(title)\n",
    "    print(\"정확도:\", accuracy_score(y, pred_y))\n",
    "    print('재현율(recall):', recall_score(y, pred_y, average='macro'))\n",
    "    print('정밀도(precision):', precision_score(y, pred_y, average='macro'))\n",
    "    print('F1 score:', f1_score(y, pred_y,average='macro'))\n",
    "\n",
    "print_metrics(y_test, pred, '랜덤포레스트 결과')"
   ]
  },
  {
   "cell_type": "code",
   "execution_count": 58,
   "metadata": {},
   "outputs": [
    {
     "name": "stdout",
     "output_type": "stream",
     "text": [
      "랜덤포레스트 결과\n",
      "정확도: 0.957997513933999\n",
      "재현율(recall): 0.957997513933999\n",
      "정밀도(precision): 0.9587534698048904\n",
      "F1 score: 0.9579534798486226\n",
      "오차행렬: [[15110  1468     1]\n",
      " [  590 16026    36]\n",
      " [    0     0 16647]]\n"
     ]
    }
   ],
   "source": [
    "def print_metrics(y_target, pred, title=None) :\n",
    "    print(title)\n",
    "    print(\"정확도:\", accuracy_score(y_target, pred))\n",
    "    print('재현율(recall):', recall_score(y_target, pred, average='weighted'))\n",
    "    print('정밀도(precision):', precision_score(y_target, pred, average='weighted'))\n",
    "    print('F1 score:', f1_score(y_target, pred,average='weighted'))\n",
    "    print('오차행렬:', confusion_matrix(y_test, pred))\n",
    "\n",
    "print_metrics(y_test, pred, '랜덤포레스트 결과')"
   ]
  }
 ],
 "metadata": {
  "kernelspec": {
   "display_name": "Python 3 (ipykernel)",
   "language": "python",
   "name": "python3"
  },
  "language_info": {
   "codemirror_mode": {
    "name": "ipython",
    "version": 3
   },
   "file_extension": ".py",
   "mimetype": "text/x-python",
   "name": "python",
   "nbconvert_exporter": "python",
   "pygments_lexer": "ipython3",
   "version": "3.9.13"
  },
  "vscode": {
   "interpreter": {
    "hash": "81794d4967e6c3204c66dcd87b604927b115b27c00565d3d43f05ba2f3a2cb0d"
   }
  }
 },
 "nbformat": 4,
 "nbformat_minor": 2
}
