{
 "cells": [
  {
   "cell_type": "markdown",
   "metadata": {},
   "source": [
    "# 로지스틱 회귀\n",
    "* 모델 1\n",
    "* upsampling + MinMax 적용한 데이터 사용\n",
    "* 평가지표 비교하여 랜덤포레스트가 더 성능이 좋다고 평가됨"
   ]
  },
  {
   "cell_type": "code",
   "execution_count": 1,
   "metadata": {},
   "outputs": [],
   "source": [
    "# 라이브러리 로드\n",
    "import pandas as pd\n",
    "import numpy as np\n",
    "import matplotlib.pyplot as plt\n",
    "\n",
    "from sklearn.model_selection import train_test_split\n",
    "from sklearn.preprocessing import StandardScaler\n",
    "from sklearn.neighbors import KNeighborsClassifier\n",
    "from sklearn.linear_model import LogisticRegression\n",
    "from scipy.special import softmax"
   ]
  },
  {
   "cell_type": "code",
   "execution_count": 3,
   "metadata": {},
   "outputs": [
    {
     "data": {
      "text/html": [
       "<div>\n",
       "<style scoped>\n",
       "    .dataframe tbody tr th:only-of-type {\n",
       "        vertical-align: middle;\n",
       "    }\n",
       "\n",
       "    .dataframe tbody tr th {\n",
       "        vertical-align: top;\n",
       "    }\n",
       "\n",
       "    .dataframe thead th {\n",
       "        text-align: right;\n",
       "    }\n",
       "</style>\n",
       "<table border=\"1\" class=\"dataframe\">\n",
       "  <thead>\n",
       "    <tr style=\"text-align: right;\">\n",
       "      <th></th>\n",
       "      <th>일시</th>\n",
       "      <th>WIND_SPEED</th>\n",
       "      <th>GUST_WIND</th>\n",
       "      <th>SIG_WAVE</th>\n",
       "      <th>MAX_WAVE</th>\n",
       "      <th>HPA</th>\n",
       "      <th>특보강도</th>\n",
       "    </tr>\n",
       "  </thead>\n",
       "  <tbody>\n",
       "    <tr>\n",
       "      <th>0</th>\n",
       "      <td>2012-08-02 04:00:00</td>\n",
       "      <td>0.334646</td>\n",
       "      <td>0.409742</td>\n",
       "      <td>0.107143</td>\n",
       "      <td>0.128205</td>\n",
       "      <td>0.463588</td>\n",
       "      <td>1.0</td>\n",
       "    </tr>\n",
       "    <tr>\n",
       "      <th>1</th>\n",
       "      <td>2018-06-15 18:00:00</td>\n",
       "      <td>0.350394</td>\n",
       "      <td>0.438395</td>\n",
       "      <td>0.107143</td>\n",
       "      <td>0.115385</td>\n",
       "      <td>0.529307</td>\n",
       "      <td>1.0</td>\n",
       "    </tr>\n",
       "    <tr>\n",
       "      <th>2</th>\n",
       "      <td>2018-04-24 12:00:00</td>\n",
       "      <td>0.188976</td>\n",
       "      <td>0.375358</td>\n",
       "      <td>0.089286</td>\n",
       "      <td>0.089744</td>\n",
       "      <td>0.467140</td>\n",
       "      <td>1.0</td>\n",
       "    </tr>\n",
       "    <tr>\n",
       "      <th>3</th>\n",
       "      <td>2018-03-22 06:00:00</td>\n",
       "      <td>0.094488</td>\n",
       "      <td>0.300860</td>\n",
       "      <td>0.285714</td>\n",
       "      <td>0.282051</td>\n",
       "      <td>0.536412</td>\n",
       "      <td>1.0</td>\n",
       "    </tr>\n",
       "    <tr>\n",
       "      <th>4</th>\n",
       "      <td>2018-03-17 08:00:00</td>\n",
       "      <td>0.192913</td>\n",
       "      <td>0.249284</td>\n",
       "      <td>0.107143</td>\n",
       "      <td>0.115385</td>\n",
       "      <td>0.870337</td>\n",
       "      <td>1.0</td>\n",
       "    </tr>\n",
       "    <tr>\n",
       "      <th>...</th>\n",
       "      <td>...</td>\n",
       "      <td>...</td>\n",
       "      <td>...</td>\n",
       "      <td>...</td>\n",
       "      <td>...</td>\n",
       "      <td>...</td>\n",
       "      <td>...</td>\n",
       "    </tr>\n",
       "    <tr>\n",
       "      <th>199504</th>\n",
       "      <td>2018-03-20 10:00:00</td>\n",
       "      <td>0.578740</td>\n",
       "      <td>0.756447</td>\n",
       "      <td>0.392857</td>\n",
       "      <td>0.410256</td>\n",
       "      <td>0.735346</td>\n",
       "      <td>2.0</td>\n",
       "    </tr>\n",
       "    <tr>\n",
       "      <th>199505</th>\n",
       "      <td>2012-04-03 07:00:00</td>\n",
       "      <td>0.212598</td>\n",
       "      <td>0.469914</td>\n",
       "      <td>0.196429</td>\n",
       "      <td>0.217949</td>\n",
       "      <td>0.197158</td>\n",
       "      <td>2.0</td>\n",
       "    </tr>\n",
       "    <tr>\n",
       "      <th>199506</th>\n",
       "      <td>2018-07-03 20:00:00</td>\n",
       "      <td>0.622047</td>\n",
       "      <td>0.767908</td>\n",
       "      <td>0.410714</td>\n",
       "      <td>0.435897</td>\n",
       "      <td>0.111901</td>\n",
       "      <td>2.0</td>\n",
       "    </tr>\n",
       "    <tr>\n",
       "      <th>199507</th>\n",
       "      <td>2018-03-20 09:00:00</td>\n",
       "      <td>0.531496</td>\n",
       "      <td>0.704871</td>\n",
       "      <td>0.357143</td>\n",
       "      <td>0.371795</td>\n",
       "      <td>0.721137</td>\n",
       "      <td>2.0</td>\n",
       "    </tr>\n",
       "    <tr>\n",
       "      <th>199508</th>\n",
       "      <td>2018-03-22 03:00:00</td>\n",
       "      <td>0.129921</td>\n",
       "      <td>0.300860</td>\n",
       "      <td>0.285714</td>\n",
       "      <td>0.294872</td>\n",
       "      <td>0.522202</td>\n",
       "      <td>2.0</td>\n",
       "    </tr>\n",
       "  </tbody>\n",
       "</table>\n",
       "<p>199509 rows × 7 columns</p>\n",
       "</div>"
      ],
      "text/plain": [
       "                         일시  WIND_SPEED  GUST_WIND  SIG_WAVE  MAX_WAVE  \\\n",
       "0       2012-08-02 04:00:00    0.334646   0.409742  0.107143  0.128205   \n",
       "1       2018-06-15 18:00:00    0.350394   0.438395  0.107143  0.115385   \n",
       "2       2018-04-24 12:00:00    0.188976   0.375358  0.089286  0.089744   \n",
       "3       2018-03-22 06:00:00    0.094488   0.300860  0.285714  0.282051   \n",
       "4       2018-03-17 08:00:00    0.192913   0.249284  0.107143  0.115385   \n",
       "...                     ...         ...        ...       ...       ...   \n",
       "199504  2018-03-20 10:00:00    0.578740   0.756447  0.392857  0.410256   \n",
       "199505  2012-04-03 07:00:00    0.212598   0.469914  0.196429  0.217949   \n",
       "199506  2018-07-03 20:00:00    0.622047   0.767908  0.410714  0.435897   \n",
       "199507  2018-03-20 09:00:00    0.531496   0.704871  0.357143  0.371795   \n",
       "199508  2018-03-22 03:00:00    0.129921   0.300860  0.285714  0.294872   \n",
       "\n",
       "             HPA  특보강도  \n",
       "0       0.463588   1.0  \n",
       "1       0.529307   1.0  \n",
       "2       0.467140   1.0  \n",
       "3       0.536412   1.0  \n",
       "4       0.870337   1.0  \n",
       "...          ...   ...  \n",
       "199504  0.735346   2.0  \n",
       "199505  0.197158   2.0  \n",
       "199506  0.111901   2.0  \n",
       "199507  0.721137   2.0  \n",
       "199508  0.522202   2.0  \n",
       "\n",
       "[199509 rows x 7 columns]"
      ]
     },
     "execution_count": 3,
     "metadata": {},
     "output_type": "execute_result"
    }
   ],
   "source": [
    "# 데이터 로딩\n",
    "df = pd.read_csv('./MinMax_model01.csv', encoding='utf-8')\n",
    "df\n"
   ]
  },
  {
   "cell_type": "code",
   "execution_count": 4,
   "metadata": {},
   "outputs": [
    {
     "name": "stdout",
     "output_type": "stream",
     "text": [
      "<class 'pandas.core.frame.DataFrame'>\n",
      "RangeIndex: 199509 entries, 0 to 199508\n",
      "Data columns (total 7 columns):\n",
      " #   Column      Non-Null Count   Dtype         \n",
      "---  ------      --------------   -----         \n",
      " 0   일시          199509 non-null  datetime64[ns]\n",
      " 1   WIND_SPEED  199509 non-null  float64       \n",
      " 2   GUST_WIND   199509 non-null  float64       \n",
      " 3   SIG_WAVE    199509 non-null  float64       \n",
      " 4   MAX_WAVE    199509 non-null  float64       \n",
      " 5   HPA         199509 non-null  float64       \n",
      " 6   특보강도        199509 non-null  float64       \n",
      "dtypes: datetime64[ns](1), float64(6)\n",
      "memory usage: 10.7 MB\n"
     ]
    }
   ],
   "source": [
    "# obj -> datetime\n",
    "df['일시'] = pd.to_datetime(df['일시'])\n",
    "df.info()"
   ]
  },
  {
   "cell_type": "code",
   "execution_count": 5,
   "metadata": {},
   "outputs": [
    {
     "data": {
      "text/html": [
       "<div>\n",
       "<style scoped>\n",
       "    .dataframe tbody tr th:only-of-type {\n",
       "        vertical-align: middle;\n",
       "    }\n",
       "\n",
       "    .dataframe tbody tr th {\n",
       "        vertical-align: top;\n",
       "    }\n",
       "\n",
       "    .dataframe thead th {\n",
       "        text-align: right;\n",
       "    }\n",
       "</style>\n",
       "<table border=\"1\" class=\"dataframe\">\n",
       "  <thead>\n",
       "    <tr style=\"text-align: right;\">\n",
       "      <th></th>\n",
       "      <th>WIND_SPEED</th>\n",
       "      <th>GUST_WIND</th>\n",
       "      <th>SIG_WAVE</th>\n",
       "      <th>MAX_WAVE</th>\n",
       "      <th>HPA</th>\n",
       "      <th>특보강도</th>\n",
       "    </tr>\n",
       "    <tr>\n",
       "      <th>일시</th>\n",
       "      <th></th>\n",
       "      <th></th>\n",
       "      <th></th>\n",
       "      <th></th>\n",
       "      <th></th>\n",
       "      <th></th>\n",
       "    </tr>\n",
       "  </thead>\n",
       "  <tbody>\n",
       "    <tr>\n",
       "      <th>2012-08-02 04:00:00</th>\n",
       "      <td>0.334646</td>\n",
       "      <td>0.409742</td>\n",
       "      <td>0.107143</td>\n",
       "      <td>0.128205</td>\n",
       "      <td>0.463588</td>\n",
       "      <td>1.0</td>\n",
       "    </tr>\n",
       "    <tr>\n",
       "      <th>2018-06-15 18:00:00</th>\n",
       "      <td>0.350394</td>\n",
       "      <td>0.438395</td>\n",
       "      <td>0.107143</td>\n",
       "      <td>0.115385</td>\n",
       "      <td>0.529307</td>\n",
       "      <td>1.0</td>\n",
       "    </tr>\n",
       "    <tr>\n",
       "      <th>2018-04-24 12:00:00</th>\n",
       "      <td>0.188976</td>\n",
       "      <td>0.375358</td>\n",
       "      <td>0.089286</td>\n",
       "      <td>0.089744</td>\n",
       "      <td>0.467140</td>\n",
       "      <td>1.0</td>\n",
       "    </tr>\n",
       "    <tr>\n",
       "      <th>2018-03-22 06:00:00</th>\n",
       "      <td>0.094488</td>\n",
       "      <td>0.300860</td>\n",
       "      <td>0.285714</td>\n",
       "      <td>0.282051</td>\n",
       "      <td>0.536412</td>\n",
       "      <td>1.0</td>\n",
       "    </tr>\n",
       "    <tr>\n",
       "      <th>2018-03-17 08:00:00</th>\n",
       "      <td>0.192913</td>\n",
       "      <td>0.249284</td>\n",
       "      <td>0.107143</td>\n",
       "      <td>0.115385</td>\n",
       "      <td>0.870337</td>\n",
       "      <td>1.0</td>\n",
       "    </tr>\n",
       "    <tr>\n",
       "      <th>...</th>\n",
       "      <td>...</td>\n",
       "      <td>...</td>\n",
       "      <td>...</td>\n",
       "      <td>...</td>\n",
       "      <td>...</td>\n",
       "      <td>...</td>\n",
       "    </tr>\n",
       "    <tr>\n",
       "      <th>2018-03-20 10:00:00</th>\n",
       "      <td>0.578740</td>\n",
       "      <td>0.756447</td>\n",
       "      <td>0.392857</td>\n",
       "      <td>0.410256</td>\n",
       "      <td>0.735346</td>\n",
       "      <td>2.0</td>\n",
       "    </tr>\n",
       "    <tr>\n",
       "      <th>2012-04-03 07:00:00</th>\n",
       "      <td>0.212598</td>\n",
       "      <td>0.469914</td>\n",
       "      <td>0.196429</td>\n",
       "      <td>0.217949</td>\n",
       "      <td>0.197158</td>\n",
       "      <td>2.0</td>\n",
       "    </tr>\n",
       "    <tr>\n",
       "      <th>2018-07-03 20:00:00</th>\n",
       "      <td>0.622047</td>\n",
       "      <td>0.767908</td>\n",
       "      <td>0.410714</td>\n",
       "      <td>0.435897</td>\n",
       "      <td>0.111901</td>\n",
       "      <td>2.0</td>\n",
       "    </tr>\n",
       "    <tr>\n",
       "      <th>2018-03-20 09:00:00</th>\n",
       "      <td>0.531496</td>\n",
       "      <td>0.704871</td>\n",
       "      <td>0.357143</td>\n",
       "      <td>0.371795</td>\n",
       "      <td>0.721137</td>\n",
       "      <td>2.0</td>\n",
       "    </tr>\n",
       "    <tr>\n",
       "      <th>2018-03-22 03:00:00</th>\n",
       "      <td>0.129921</td>\n",
       "      <td>0.300860</td>\n",
       "      <td>0.285714</td>\n",
       "      <td>0.294872</td>\n",
       "      <td>0.522202</td>\n",
       "      <td>2.0</td>\n",
       "    </tr>\n",
       "  </tbody>\n",
       "</table>\n",
       "<p>199509 rows × 6 columns</p>\n",
       "</div>"
      ],
      "text/plain": [
       "                     WIND_SPEED  GUST_WIND  SIG_WAVE  MAX_WAVE       HPA  특보강도\n",
       "일시                                                                            \n",
       "2012-08-02 04:00:00    0.334646   0.409742  0.107143  0.128205  0.463588   1.0\n",
       "2018-06-15 18:00:00    0.350394   0.438395  0.107143  0.115385  0.529307   1.0\n",
       "2018-04-24 12:00:00    0.188976   0.375358  0.089286  0.089744  0.467140   1.0\n",
       "2018-03-22 06:00:00    0.094488   0.300860  0.285714  0.282051  0.536412   1.0\n",
       "2018-03-17 08:00:00    0.192913   0.249284  0.107143  0.115385  0.870337   1.0\n",
       "...                         ...        ...       ...       ...       ...   ...\n",
       "2018-03-20 10:00:00    0.578740   0.756447  0.392857  0.410256  0.735346   2.0\n",
       "2012-04-03 07:00:00    0.212598   0.469914  0.196429  0.217949  0.197158   2.0\n",
       "2018-07-03 20:00:00    0.622047   0.767908  0.410714  0.435897  0.111901   2.0\n",
       "2018-03-20 09:00:00    0.531496   0.704871  0.357143  0.371795  0.721137   2.0\n",
       "2018-03-22 03:00:00    0.129921   0.300860  0.285714  0.294872  0.522202   2.0\n",
       "\n",
       "[199509 rows x 6 columns]"
      ]
     },
     "execution_count": 5,
     "metadata": {},
     "output_type": "execute_result"
    }
   ],
   "source": [
    "# 인덱스\n",
    "df = df.set_index('일시')\n",
    "df"
   ]
  },
  {
   "cell_type": "code",
   "execution_count": 6,
   "metadata": {},
   "outputs": [
    {
     "name": "stdout",
     "output_type": "stream",
     "text": [
      "[1. 0. 2.]\n"
     ]
    }
   ],
   "source": [
    "# 코드\n",
    "print(pd.unique(df['특보강도']))"
   ]
  },
  {
   "cell_type": "code",
   "execution_count": 7,
   "metadata": {},
   "outputs": [],
   "source": [
    "# 데이터셋 구성\n",
    "X= df.drop(['특보강도'], axis=1)\n",
    "y= df['특보강도']"
   ]
  },
  {
   "cell_type": "markdown",
   "metadata": {},
   "source": [
    "* 훈련 시작~"
   ]
  },
  {
   "cell_type": "code",
   "execution_count": 8,
   "metadata": {},
   "outputs": [],
   "source": [
    "x_train, x_test, y_train, y_test = train_test_split(X, y, test_size = 0.2, random_state=123)"
   ]
  },
  {
   "cell_type": "code",
   "execution_count": 9,
   "metadata": {},
   "outputs": [
    {
     "data": {
      "text/html": [
       "<div>\n",
       "<style scoped>\n",
       "    .dataframe tbody tr th:only-of-type {\n",
       "        vertical-align: middle;\n",
       "    }\n",
       "\n",
       "    .dataframe tbody tr th {\n",
       "        vertical-align: top;\n",
       "    }\n",
       "\n",
       "    .dataframe thead th {\n",
       "        text-align: right;\n",
       "    }\n",
       "</style>\n",
       "<table border=\"1\" class=\"dataframe\">\n",
       "  <thead>\n",
       "    <tr style=\"text-align: right;\">\n",
       "      <th></th>\n",
       "      <th>WIND_SPEED</th>\n",
       "      <th>GUST_WIND</th>\n",
       "      <th>SIG_WAVE</th>\n",
       "      <th>MAX_WAVE</th>\n",
       "      <th>HPA</th>\n",
       "    </tr>\n",
       "    <tr>\n",
       "      <th>일시</th>\n",
       "      <th></th>\n",
       "      <th></th>\n",
       "      <th></th>\n",
       "      <th></th>\n",
       "      <th></th>\n",
       "    </tr>\n",
       "  </thead>\n",
       "  <tbody>\n",
       "    <tr>\n",
       "      <th>2012-08-02 04:00:00</th>\n",
       "      <td>0.334646</td>\n",
       "      <td>0.409742</td>\n",
       "      <td>0.107143</td>\n",
       "      <td>0.128205</td>\n",
       "      <td>0.463588</td>\n",
       "    </tr>\n",
       "    <tr>\n",
       "      <th>2018-06-15 18:00:00</th>\n",
       "      <td>0.350394</td>\n",
       "      <td>0.438395</td>\n",
       "      <td>0.107143</td>\n",
       "      <td>0.115385</td>\n",
       "      <td>0.529307</td>\n",
       "    </tr>\n",
       "    <tr>\n",
       "      <th>2018-04-24 12:00:00</th>\n",
       "      <td>0.188976</td>\n",
       "      <td>0.375358</td>\n",
       "      <td>0.089286</td>\n",
       "      <td>0.089744</td>\n",
       "      <td>0.467140</td>\n",
       "    </tr>\n",
       "    <tr>\n",
       "      <th>2018-03-22 06:00:00</th>\n",
       "      <td>0.094488</td>\n",
       "      <td>0.300860</td>\n",
       "      <td>0.285714</td>\n",
       "      <td>0.282051</td>\n",
       "      <td>0.536412</td>\n",
       "    </tr>\n",
       "    <tr>\n",
       "      <th>2018-03-17 08:00:00</th>\n",
       "      <td>0.192913</td>\n",
       "      <td>0.249284</td>\n",
       "      <td>0.107143</td>\n",
       "      <td>0.115385</td>\n",
       "      <td>0.870337</td>\n",
       "    </tr>\n",
       "    <tr>\n",
       "      <th>...</th>\n",
       "      <td>...</td>\n",
       "      <td>...</td>\n",
       "      <td>...</td>\n",
       "      <td>...</td>\n",
       "      <td>...</td>\n",
       "    </tr>\n",
       "    <tr>\n",
       "      <th>2018-03-20 10:00:00</th>\n",
       "      <td>0.578740</td>\n",
       "      <td>0.756447</td>\n",
       "      <td>0.392857</td>\n",
       "      <td>0.410256</td>\n",
       "      <td>0.735346</td>\n",
       "    </tr>\n",
       "    <tr>\n",
       "      <th>2012-04-03 07:00:00</th>\n",
       "      <td>0.212598</td>\n",
       "      <td>0.469914</td>\n",
       "      <td>0.196429</td>\n",
       "      <td>0.217949</td>\n",
       "      <td>0.197158</td>\n",
       "    </tr>\n",
       "    <tr>\n",
       "      <th>2018-07-03 20:00:00</th>\n",
       "      <td>0.622047</td>\n",
       "      <td>0.767908</td>\n",
       "      <td>0.410714</td>\n",
       "      <td>0.435897</td>\n",
       "      <td>0.111901</td>\n",
       "    </tr>\n",
       "    <tr>\n",
       "      <th>2018-03-20 09:00:00</th>\n",
       "      <td>0.531496</td>\n",
       "      <td>0.704871</td>\n",
       "      <td>0.357143</td>\n",
       "      <td>0.371795</td>\n",
       "      <td>0.721137</td>\n",
       "    </tr>\n",
       "    <tr>\n",
       "      <th>2018-03-22 03:00:00</th>\n",
       "      <td>0.129921</td>\n",
       "      <td>0.300860</td>\n",
       "      <td>0.285714</td>\n",
       "      <td>0.294872</td>\n",
       "      <td>0.522202</td>\n",
       "    </tr>\n",
       "  </tbody>\n",
       "</table>\n",
       "<p>199509 rows × 5 columns</p>\n",
       "</div>"
      ],
      "text/plain": [
       "                     WIND_SPEED  GUST_WIND  SIG_WAVE  MAX_WAVE       HPA\n",
       "일시                                                                      \n",
       "2012-08-02 04:00:00    0.334646   0.409742  0.107143  0.128205  0.463588\n",
       "2018-06-15 18:00:00    0.350394   0.438395  0.107143  0.115385  0.529307\n",
       "2018-04-24 12:00:00    0.188976   0.375358  0.089286  0.089744  0.467140\n",
       "2018-03-22 06:00:00    0.094488   0.300860  0.285714  0.282051  0.536412\n",
       "2018-03-17 08:00:00    0.192913   0.249284  0.107143  0.115385  0.870337\n",
       "...                         ...        ...       ...       ...       ...\n",
       "2018-03-20 10:00:00    0.578740   0.756447  0.392857  0.410256  0.735346\n",
       "2012-04-03 07:00:00    0.212598   0.469914  0.196429  0.217949  0.197158\n",
       "2018-07-03 20:00:00    0.622047   0.767908  0.410714  0.435897  0.111901\n",
       "2018-03-20 09:00:00    0.531496   0.704871  0.357143  0.371795  0.721137\n",
       "2018-03-22 03:00:00    0.129921   0.300860  0.285714  0.294872  0.522202\n",
       "\n",
       "[199509 rows x 5 columns]"
      ]
     },
     "execution_count": 9,
     "metadata": {},
     "output_type": "execute_result"
    }
   ],
   "source": [
    "X"
   ]
  },
  {
   "cell_type": "code",
   "execution_count": 10,
   "metadata": {},
   "outputs": [
    {
     "data": {
      "text/plain": [
       "일시\n",
       "2012-08-02 04:00:00    1.0\n",
       "2018-06-15 18:00:00    1.0\n",
       "2018-04-24 12:00:00    1.0\n",
       "2018-03-22 06:00:00    1.0\n",
       "2018-03-17 08:00:00    1.0\n",
       "                      ... \n",
       "2018-03-20 10:00:00    2.0\n",
       "2012-04-03 07:00:00    2.0\n",
       "2018-07-03 20:00:00    2.0\n",
       "2018-03-20 09:00:00    2.0\n",
       "2018-03-22 03:00:00    2.0\n",
       "Name: 특보강도, Length: 199509, dtype: float64"
      ]
     },
     "execution_count": 10,
     "metadata": {},
     "output_type": "execute_result"
    }
   ],
   "source": [
    "y"
   ]
  },
  {
   "cell_type": "code",
   "execution_count": 11,
   "metadata": {},
   "outputs": [],
   "source": [
    "# 표준화 전처리\n",
    "ss = StandardScaler()\n",
    "ss.fit(x_train)\n",
    "train_scaled = ss.transform(x_train)\n",
    "test_scaled = ss.transform(x_test)\n"
   ]
  },
  {
   "cell_type": "code",
   "execution_count": 12,
   "metadata": {},
   "outputs": [
    {
     "name": "stdout",
     "output_type": "stream",
     "text": [
      "0.9922685095265246\n",
      "0.9853892035486943\n"
     ]
    }
   ],
   "source": [
    "# k - 최근접 이웃 분류기의 확률 예측\n",
    "kn = KNeighborsClassifier(n_neighbors=3)\n",
    "kn.fit(train_scaled, y_train)\n",
    "print(kn.score(train_scaled, y_train))\n",
    "print(kn.score(test_scaled, y_test))"
   ]
  },
  {
   "cell_type": "code",
   "execution_count": 13,
   "metadata": {},
   "outputs": [
    {
     "name": "stdout",
     "output_type": "stream",
     "text": [
      "[[1. 0. 0.]\n",
      " [0. 1. 0.]\n",
      " [1. 0. 0.]\n",
      " [1. 0. 0.]\n",
      " [0. 0. 1.]]\n"
     ]
    }
   ],
   "source": [
    "# 샘플 예측\n",
    "proba = kn.predict_proba(test_scaled[:5])\n",
    "print(np.round(proba,decimals=4))"
   ]
  },
  {
   "cell_type": "code",
   "execution_count": 14,
   "metadata": {},
   "outputs": [
    {
     "name": "stdout",
     "output_type": "stream",
     "text": [
      "0.8232471006910724\n",
      "0.8245200741817452\n"
     ]
    }
   ],
   "source": [
    "# 로지스틱 회귀 훈련\n",
    "lr = LogisticRegression(C=20, max_iter=1000)\n",
    "lr.fit(train_scaled, y_train)\n",
    "print(lr.score(train_scaled, y_train))\n",
    "print(lr.score(test_scaled,y_test))"
   ]
  },
  {
   "cell_type": "code",
   "execution_count": 15,
   "metadata": {},
   "outputs": [
    {
     "name": "stderr",
     "output_type": "stream",
     "text": [
      "c:\\Python39\\lib\\site-packages\\sklearn\\linear_model\\_logistic.py:444: ConvergenceWarning: lbfgs failed to converge (status=1):\n",
      "STOP: TOTAL NO. of ITERATIONS REACHED LIMIT.\n",
      "\n",
      "Increase the number of iterations (max_iter) or scale the data as shown in:\n",
      "    https://scikit-learn.org/stable/modules/preprocessing.html\n",
      "Please also refer to the documentation for alternative solver options:\n",
      "    https://scikit-learn.org/stable/modules/linear_model.html#logistic-regression\n",
      "  n_iter_i = _check_optimize_result(\n"
     ]
    },
    {
     "data": {
      "text/html": [
       "<style>#sk-container-id-1 {color: black;background-color: white;}#sk-container-id-1 pre{padding: 0;}#sk-container-id-1 div.sk-toggleable {background-color: white;}#sk-container-id-1 label.sk-toggleable__label {cursor: pointer;display: block;width: 100%;margin-bottom: 0;padding: 0.3em;box-sizing: border-box;text-align: center;}#sk-container-id-1 label.sk-toggleable__label-arrow:before {content: \"▸\";float: left;margin-right: 0.25em;color: #696969;}#sk-container-id-1 label.sk-toggleable__label-arrow:hover:before {color: black;}#sk-container-id-1 div.sk-estimator:hover label.sk-toggleable__label-arrow:before {color: black;}#sk-container-id-1 div.sk-toggleable__content {max-height: 0;max-width: 0;overflow: hidden;text-align: left;background-color: #f0f8ff;}#sk-container-id-1 div.sk-toggleable__content pre {margin: 0.2em;color: black;border-radius: 0.25em;background-color: #f0f8ff;}#sk-container-id-1 input.sk-toggleable__control:checked~div.sk-toggleable__content {max-height: 200px;max-width: 100%;overflow: auto;}#sk-container-id-1 input.sk-toggleable__control:checked~label.sk-toggleable__label-arrow:before {content: \"▾\";}#sk-container-id-1 div.sk-estimator input.sk-toggleable__control:checked~label.sk-toggleable__label {background-color: #d4ebff;}#sk-container-id-1 div.sk-label input.sk-toggleable__control:checked~label.sk-toggleable__label {background-color: #d4ebff;}#sk-container-id-1 input.sk-hidden--visually {border: 0;clip: rect(1px 1px 1px 1px);clip: rect(1px, 1px, 1px, 1px);height: 1px;margin: -1px;overflow: hidden;padding: 0;position: absolute;width: 1px;}#sk-container-id-1 div.sk-estimator {font-family: monospace;background-color: #f0f8ff;border: 1px dotted black;border-radius: 0.25em;box-sizing: border-box;margin-bottom: 0.5em;}#sk-container-id-1 div.sk-estimator:hover {background-color: #d4ebff;}#sk-container-id-1 div.sk-parallel-item::after {content: \"\";width: 100%;border-bottom: 1px solid gray;flex-grow: 1;}#sk-container-id-1 div.sk-label:hover label.sk-toggleable__label {background-color: #d4ebff;}#sk-container-id-1 div.sk-serial::before {content: \"\";position: absolute;border-left: 1px solid gray;box-sizing: border-box;top: 0;bottom: 0;left: 50%;z-index: 0;}#sk-container-id-1 div.sk-serial {display: flex;flex-direction: column;align-items: center;background-color: white;padding-right: 0.2em;padding-left: 0.2em;position: relative;}#sk-container-id-1 div.sk-item {position: relative;z-index: 1;}#sk-container-id-1 div.sk-parallel {display: flex;align-items: stretch;justify-content: center;background-color: white;position: relative;}#sk-container-id-1 div.sk-item::before, #sk-container-id-1 div.sk-parallel-item::before {content: \"\";position: absolute;border-left: 1px solid gray;box-sizing: border-box;top: 0;bottom: 0;left: 50%;z-index: -1;}#sk-container-id-1 div.sk-parallel-item {display: flex;flex-direction: column;z-index: 1;position: relative;background-color: white;}#sk-container-id-1 div.sk-parallel-item:first-child::after {align-self: flex-end;width: 50%;}#sk-container-id-1 div.sk-parallel-item:last-child::after {align-self: flex-start;width: 50%;}#sk-container-id-1 div.sk-parallel-item:only-child::after {width: 0;}#sk-container-id-1 div.sk-dashed-wrapped {border: 1px dashed gray;margin: 0 0.4em 0.5em 0.4em;box-sizing: border-box;padding-bottom: 0.4em;background-color: white;}#sk-container-id-1 div.sk-label label {font-family: monospace;font-weight: bold;display: inline-block;line-height: 1.2em;}#sk-container-id-1 div.sk-label-container {text-align: center;}#sk-container-id-1 div.sk-container {/* jupyter's `normalize.less` sets `[hidden] { display: none; }` but bootstrap.min.css set `[hidden] { display: none !important; }` so we also need the `!important` here to be able to override the default hidden behavior on the sphinx rendered scikit-learn.org. See: https://github.com/scikit-learn/scikit-learn/issues/21755 */display: inline-block !important;position: relative;}#sk-container-id-1 div.sk-text-repr-fallback {display: none;}</style><div id=\"sk-container-id-1\" class=\"sk-top-container\"><div class=\"sk-text-repr-fallback\"><pre>LogisticRegression()</pre><b>In a Jupyter environment, please rerun this cell to show the HTML representation or trust the notebook. <br />On GitHub, the HTML representation is unable to render, please try loading this page with nbviewer.org.</b></div><div class=\"sk-container\" hidden><div class=\"sk-item\"><div class=\"sk-estimator sk-toggleable\"><input class=\"sk-toggleable__control sk-hidden--visually\" id=\"sk-estimator-id-1\" type=\"checkbox\" checked><label for=\"sk-estimator-id-1\" class=\"sk-toggleable__label sk-toggleable__label-arrow\">LogisticRegression</label><div class=\"sk-toggleable__content\"><pre>LogisticRegression()</pre></div></div></div></div></div>"
      ],
      "text/plain": [
       "LogisticRegression()"
      ]
     },
     "execution_count": 15,
     "metadata": {},
     "output_type": "execute_result"
    }
   ],
   "source": [
    "model = LogisticRegression()\n",
    "model.fit(x_train, y_train)"
   ]
  },
  {
   "cell_type": "code",
   "execution_count": 16,
   "metadata": {},
   "outputs": [
    {
     "name": "stdout",
     "output_type": "stream",
     "text": [
      "[[ -4.21358554  -6.14233443 -12.38416326 -14.50739884   1.74007717]\n",
      " [ -1.04494319   1.49447083  -5.00383613   9.8827669   -0.94387622]\n",
      " [  5.25852873   4.64786359  17.38799939   4.62463194  -0.79620096]]\n"
     ]
    }
   ],
   "source": [
    "print(model.coef_)"
   ]
  },
  {
   "cell_type": "code",
   "execution_count": 17,
   "metadata": {},
   "outputs": [
    {
     "name": "stdout",
     "output_type": "stream",
     "text": [
      "0.8230090158952929\n"
     ]
    }
   ],
   "source": [
    "print(model.score(x_train, y_train))"
   ]
  },
  {
   "cell_type": "code",
   "execution_count": 18,
   "metadata": {},
   "outputs": [
    {
     "name": "stdout",
     "output_type": "stream",
     "text": [
      "[0. 0. 0. 0. 2.]\n"
     ]
    }
   ],
   "source": [
    "# 5개의 샘플 예측\n",
    "print(lr.predict(test_scaled[:5]))"
   ]
  },
  {
   "cell_type": "code",
   "execution_count": 19,
   "metadata": {},
   "outputs": [
    {
     "name": "stdout",
     "output_type": "stream",
     "text": [
      "[[0.82  0.179 0.001]\n",
      " [0.765 0.233 0.002]\n",
      " [0.644 0.347 0.009]\n",
      " [0.968 0.032 0.   ]\n",
      " [0.    0.007 0.993]\n",
      " [0.078 0.874 0.048]\n",
      " [0.    0.237 0.763]\n",
      " [0.143 0.834 0.023]\n",
      " [0.208 0.757 0.035]\n",
      " [0.    0.032 0.968]]\n"
     ]
    }
   ],
   "source": [
    "# 10개의 샘플 예측 확률\n",
    "proba = lr.predict_proba(test_scaled[:10])\n",
    "print(np.round(proba, decimals=3)) # 반올림의미"
   ]
  },
  {
   "cell_type": "code",
   "execution_count": 20,
   "metadata": {},
   "outputs": [
    {
     "name": "stdout",
     "output_type": "stream",
     "text": [
      "[0. 1. 2.]\n"
     ]
    }
   ],
   "source": [
    "# 클래스 정보\n",
    "print(lr.classes_)"
   ]
  },
  {
   "cell_type": "code",
   "execution_count": 21,
   "metadata": {},
   "outputs": [
    {
     "name": "stdout",
     "output_type": "stream",
     "text": [
      "[[-0.68156831 -1.20469453 -2.79945335 -1.87985098  0.30106139]\n",
      " [-0.18168921  0.29441077 -1.79046171  2.66901212 -0.16171918]\n",
      " [ 0.86325752  0.91028376  4.58991506 -0.78916113 -0.13934221]] [-2.43526861  1.952231    0.48303761]\n"
     ]
    }
   ],
   "source": [
    "# 로지스틱 회귀가 학습한 계수\n",
    "print(lr.coef_, lr.intercept_)"
   ]
  },
  {
   "cell_type": "code",
   "execution_count": 22,
   "metadata": {},
   "outputs": [
    {
     "name": "stdout",
     "output_type": "stream",
     "text": [
      "(3, 5) (3,)\n"
     ]
    }
   ],
   "source": [
    "# 선형 방적식은 어떨까?\n",
    "print(lr.coef_.shape, lr.intercept_.shape)\n",
    "\n",
    "# 열은 5개, 행은 3개"
   ]
  },
  {
   "cell_type": "markdown",
   "metadata": {},
   "source": [
    "* softmax"
   ]
  },
  {
   "cell_type": "code",
   "execution_count": 23,
   "metadata": {},
   "outputs": [
    {
     "name": "stdout",
     "output_type": "stream",
     "text": [
      "[[  2.78   1.25  -4.03]\n",
      " [  2.38   1.19  -3.57]\n",
      " [  1.63   1.01  -2.64]\n",
      " [  4.41   0.99  -5.4 ]\n",
      " [-11.48   3.3    8.19]]\n"
     ]
    }
   ],
   "source": [
    "# 소프트 맥스 => 다중분류에서 출력 결과를 정규화해서 합이 1이 되도록 함\n",
    "# z값 출력 (z1~z3까지의 값)\n",
    "decisions = lr.decision_function(test_scaled[:5])\n",
    "print(np.round(decisions, decimals=2))"
   ]
  },
  {
   "cell_type": "code",
   "execution_count": 24,
   "metadata": {},
   "outputs": [
    {
     "name": "stdout",
     "output_type": "stream",
     "text": [
      "[[0.82  0.179 0.001]\n",
      " [0.765 0.233 0.002]\n",
      " [0.644 0.347 0.009]\n",
      " [0.968 0.032 0.   ]\n",
      " [0.    0.007 0.993]]\n"
     ]
    }
   ],
   "source": [
    "# 소프트맥스 함수\n",
    "# 앞서 했던 proba랑 비교 => 일치\n",
    "proba = softmax(decisions, axis=1)\n",
    "print(np.round(proba, decimals=3))\n"
   ]
  },
  {
   "cell_type": "markdown",
   "metadata": {},
   "source": [
    "## 성능지표"
   ]
  },
  {
   "cell_type": "code",
   "execution_count": 25,
   "metadata": {},
   "outputs": [],
   "source": [
    "from sklearn.linear_model import LogisticRegression\n",
    "from sklearn.metrics import classification_report\n",
    "import matplotlib.pyplot as plt\n",
    "from sklearn.metrics import confusion_matrix"
   ]
  },
  {
   "cell_type": "code",
   "execution_count": 26,
   "metadata": {},
   "outputs": [
    {
     "name": "stderr",
     "output_type": "stream",
     "text": [
      "c:\\Python39\\lib\\site-packages\\sklearn\\linear_model\\_logistic.py:444: ConvergenceWarning: lbfgs failed to converge (status=1):\n",
      "STOP: TOTAL NO. of ITERATIONS REACHED LIMIT.\n",
      "\n",
      "Increase the number of iterations (max_iter) or scale the data as shown in:\n",
      "    https://scikit-learn.org/stable/modules/preprocessing.html\n",
      "Please also refer to the documentation for alternative solver options:\n",
      "    https://scikit-learn.org/stable/modules/linear_model.html#logistic-regression\n",
      "  n_iter_i = _check_optimize_result(\n"
     ]
    }
   ],
   "source": [
    "lr = LogisticRegression()\n",
    "lr.fit(x_train, y_train)\n",
    "pred = lr.predict(x_test)"
   ]
  },
  {
   "cell_type": "code",
   "execution_count": 27,
   "metadata": {},
   "outputs": [
    {
     "name": "stdout",
     "output_type": "stream",
     "text": [
      "              precision    recall  f1-score   support\n",
      "\n",
      "         0.0       0.88      0.89      0.88     13343\n",
      "         1.0       0.73      0.75      0.74     13273\n",
      "         2.0       0.87      0.83      0.85     13286\n",
      "\n",
      "    accuracy                           0.82     39902\n",
      "   macro avg       0.82      0.82      0.82     39902\n",
      "weighted avg       0.82      0.82      0.82     39902\n",
      "\n"
     ]
    }
   ],
   "source": [
    "# 로지스틱 회귀 평가지표\n",
    "print(classification_report(y_test, pred))"
   ]
  },
  {
   "cell_type": "code",
   "execution_count": 28,
   "metadata": {},
   "outputs": [],
   "source": [
    "cm = confusion_matrix(y_test, pred)"
   ]
  },
  {
   "cell_type": "code",
   "execution_count": 29,
   "metadata": {},
   "outputs": [
    {
     "data": {
      "text/plain": [
       "array([[11915,  1422,     6],\n",
       "       [ 1689,  9902,  1682],\n",
       "       [    0,  2223, 11063]], dtype=int64)"
      ]
     },
     "execution_count": 29,
     "metadata": {},
     "output_type": "execute_result"
    }
   ],
   "source": [
    "# 오차행렬\n",
    "cm"
   ]
  },
  {
   "cell_type": "code",
   "execution_count": null,
   "metadata": {},
   "outputs": [],
   "source": []
  }
 ],
 "metadata": {
  "kernelspec": {
   "display_name": "Python 3.9.13 64-bit",
   "language": "python",
   "name": "python3"
  },
  "language_info": {
   "codemirror_mode": {
    "name": "ipython",
    "version": 3
   },
   "file_extension": ".py",
   "mimetype": "text/x-python",
   "name": "python",
   "nbconvert_exporter": "python",
   "pygments_lexer": "ipython3",
   "version": "3.9.13"
  },
  "orig_nbformat": 4,
  "vscode": {
   "interpreter": {
    "hash": "81794d4967e6c3204c66dcd87b604927b115b27c00565d3d43f05ba2f3a2cb0d"
   }
  }
 },
 "nbformat": 4,
 "nbformat_minor": 2
}
